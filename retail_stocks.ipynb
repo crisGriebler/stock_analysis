{
 "cells": [
  {
   "cell_type": "code",
   "execution_count": 1,
   "metadata": {},
   "outputs": [],
   "source": [
    "import yfinance as yf\n",
    "import pandas as pd\n",
    "import numpy as np\n",
    "import matplotlib.pyplot as plt"
   ]
  },
  {
   "cell_type": "code",
   "execution_count": 2,
   "metadata": {},
   "outputs": [],
   "source": [
    "ativos = ['PETR4','VALE3', 'ABEV3', 'WEGE3', 'EMBR3', 'RADL3', 'CVCB3', 'CIEL3', 'OIBR3', 'KNRI11']"
   ]
  },
  {
   "cell_type": "code",
   "execution_count": 3,
   "metadata": {},
   "outputs": [],
   "source": [
    "ativos = [i + '.SA' for i in ativos]"
   ]
  },
  {
   "cell_type": "code",
   "execution_count": 4,
   "metadata": {},
   "outputs": [],
   "source": [
    "inicio = '2020-01-01'\n",
    "fim = '2023-07-10'"
   ]
  },
  {
   "cell_type": "code",
   "execution_count": 5,
   "metadata": {},
   "outputs": [
    {
     "name": "stdout",
     "output_type": "stream",
     "text": [
      "[*********************100%***********************]  10 of 10 completed\n"
     ]
    }
   ],
   "source": [
    "df = yf.download(ativos, start = inicio, end = fim)['Adj Close']"
   ]
  },
  {
   "cell_type": "code",
   "execution_count": 6,
   "metadata": {},
   "outputs": [
    {
     "data": {
      "text/html": [
       "<div>\n",
       "<style scoped>\n",
       "    .dataframe tbody tr th:only-of-type {\n",
       "        vertical-align: middle;\n",
       "    }\n",
       "\n",
       "    .dataframe tbody tr th {\n",
       "        vertical-align: top;\n",
       "    }\n",
       "\n",
       "    .dataframe thead th {\n",
       "        text-align: right;\n",
       "    }\n",
       "</style>\n",
       "<table border=\"1\" class=\"dataframe\">\n",
       "  <thead>\n",
       "    <tr style=\"text-align: right;\">\n",
       "      <th></th>\n",
       "      <th>ABEV3.SA</th>\n",
       "      <th>CIEL3.SA</th>\n",
       "      <th>CVCB3.SA</th>\n",
       "      <th>EMBR3.SA</th>\n",
       "      <th>KNRI11.SA</th>\n",
       "      <th>OIBR3.SA</th>\n",
       "      <th>PETR4.SA</th>\n",
       "      <th>RADL3.SA</th>\n",
       "      <th>VALE3.SA</th>\n",
       "      <th>WEGE3.SA</th>\n",
       "    </tr>\n",
       "    <tr>\n",
       "      <th>Date</th>\n",
       "      <th></th>\n",
       "      <th></th>\n",
       "      <th></th>\n",
       "      <th></th>\n",
       "      <th></th>\n",
       "      <th></th>\n",
       "      <th></th>\n",
       "      <th></th>\n",
       "      <th></th>\n",
       "      <th></th>\n",
       "    </tr>\n",
       "  </thead>\n",
       "  <tbody>\n",
       "    <tr>\n",
       "      <th>2020-01-02</th>\n",
       "      <td>17.020620</td>\n",
       "      <td>7.007979</td>\n",
       "      <td>44.709999</td>\n",
       "      <td>20.200001</td>\n",
       "      <td>179.568451</td>\n",
       "      <td>8.6</td>\n",
       "      <td>12.180106</td>\n",
       "      <td>21.383530</td>\n",
       "      <td>39.578945</td>\n",
       "      <td>16.831549</td>\n",
       "    </tr>\n",
       "    <tr>\n",
       "      <th>2020-01-03</th>\n",
       "      <td>16.781267</td>\n",
       "      <td>6.918028</td>\n",
       "      <td>44.200001</td>\n",
       "      <td>20.410000</td>\n",
       "      <td>179.568451</td>\n",
       "      <td>8.6</td>\n",
       "      <td>12.080916</td>\n",
       "      <td>20.906805</td>\n",
       "      <td>39.287548</td>\n",
       "      <td>16.616611</td>\n",
       "    </tr>\n",
       "    <tr>\n",
       "      <th>2020-01-06</th>\n",
       "      <td>16.861053</td>\n",
       "      <td>6.746305</td>\n",
       "      <td>43.820000</td>\n",
       "      <td>20.379999</td>\n",
       "      <td>178.111069</td>\n",
       "      <td>9.2</td>\n",
       "      <td>12.223744</td>\n",
       "      <td>20.495258</td>\n",
       "      <td>39.054428</td>\n",
       "      <td>16.659601</td>\n",
       "    </tr>\n",
       "    <tr>\n",
       "      <th>2020-01-07</th>\n",
       "      <td>16.896511</td>\n",
       "      <td>6.550048</td>\n",
       "      <td>44.400002</td>\n",
       "      <td>20.500000</td>\n",
       "      <td>178.803787</td>\n",
       "      <td>9.4</td>\n",
       "      <td>12.176136</td>\n",
       "      <td>20.214071</td>\n",
       "      <td>39.338539</td>\n",
       "      <td>16.788561</td>\n",
       "    </tr>\n",
       "    <tr>\n",
       "      <th>2020-01-08</th>\n",
       "      <td>16.816727</td>\n",
       "      <td>6.402856</td>\n",
       "      <td>44.340000</td>\n",
       "      <td>20.330000</td>\n",
       "      <td>168.682816</td>\n",
       "      <td>9.2</td>\n",
       "      <td>12.100756</td>\n",
       "      <td>20.484085</td>\n",
       "      <td>39.345821</td>\n",
       "      <td>16.153313</td>\n",
       "    </tr>\n",
       "  </tbody>\n",
       "</table>\n",
       "</div>"
      ],
      "text/plain": [
       "             ABEV3.SA  CIEL3.SA   CVCB3.SA   EMBR3.SA   KNRI11.SA  OIBR3.SA  \\\n",
       "Date                                                                          \n",
       "2020-01-02  17.020620  7.007979  44.709999  20.200001  179.568451       8.6   \n",
       "2020-01-03  16.781267  6.918028  44.200001  20.410000  179.568451       8.6   \n",
       "2020-01-06  16.861053  6.746305  43.820000  20.379999  178.111069       9.2   \n",
       "2020-01-07  16.896511  6.550048  44.400002  20.500000  178.803787       9.4   \n",
       "2020-01-08  16.816727  6.402856  44.340000  20.330000  168.682816       9.2   \n",
       "\n",
       "             PETR4.SA   RADL3.SA   VALE3.SA   WEGE3.SA  \n",
       "Date                                                    \n",
       "2020-01-02  12.180106  21.383530  39.578945  16.831549  \n",
       "2020-01-03  12.080916  20.906805  39.287548  16.616611  \n",
       "2020-01-06  12.223744  20.495258  39.054428  16.659601  \n",
       "2020-01-07  12.176136  20.214071  39.338539  16.788561  \n",
       "2020-01-08  12.100756  20.484085  39.345821  16.153313  "
      ]
     },
     "execution_count": 6,
     "metadata": {},
     "output_type": "execute_result"
    }
   ],
   "source": [
    "df.head()"
   ]
  },
  {
   "cell_type": "markdown",
   "metadata": {},
   "source": [
    "#### normalizando os ativos\n"
   ]
  },
  {
   "cell_type": "code",
   "execution_count": 7,
   "metadata": {},
   "outputs": [],
   "source": [
    "normalizado = df/df.iloc[0]"
   ]
  },
  {
   "cell_type": "code",
   "execution_count": 8,
   "metadata": {},
   "outputs": [
    {
     "data": {
      "text/plain": [
       "<Axes: xlabel='Date'>"
      ]
     },
     "execution_count": 8,
     "metadata": {},
     "output_type": "execute_result"
    }
   ],
   "source": [
    "normalizado.plot(figsize = (8,7))"
   ]
  },
  {
   "cell_type": "markdown",
   "metadata": {},
   "source": [
    "### Preços no dia do aporte"
   ]
  },
  {
   "cell_type": "code",
   "execution_count": null,
   "metadata": {},
   "outputs": [],
   "source": [
    "primeiro = df.iloc[0]"
   ]
  },
  {
   "cell_type": "code",
   "execution_count": null,
   "metadata": {},
   "outputs": [],
   "source": [
    "primeiro"
   ]
  },
  {
   "cell_type": "code",
   "execution_count": null,
   "metadata": {},
   "outputs": [],
   "source": [
    "comprados = 1000/primeiro"
   ]
  },
  {
   "cell_type": "code",
   "execution_count": null,
   "metadata": {},
   "outputs": [],
   "source": [
    "comprados"
   ]
  },
  {
   "cell_type": "code",
   "execution_count": null,
   "metadata": {},
   "outputs": [],
   "source": [
    "# Número de papéis arredondados\n",
    "round(comprados, 0)"
   ]
  },
  {
   "cell_type": "code",
   "execution_count": null,
   "metadata": {},
   "outputs": [],
   "source": [
    "comprados = round(comprados, 0)"
   ]
  },
  {
   "cell_type": "code",
   "execution_count": null,
   "metadata": {},
   "outputs": [],
   "source": [
    "comprados"
   ]
  },
  {
   "cell_type": "markdown",
   "metadata": {},
   "source": [
    "## 7.4. Construção da carteira e da comparação com o IBOV"
   ]
  },
  {
   "cell_type": "markdown",
   "metadata": {},
   "source": [
    "Como saber qual era o valor que tínhamos em cada papel, por dia? Basta multiplicar o número de papéis que compramos com os preços diários"
   ]
  },
  {
   "cell_type": "markdown",
   "metadata": {},
   "source": [
    "PL = df*comprados"
   ]
  },
  {
   "cell_type": "code",
   "execution_count": null,
   "metadata": {},
   "outputs": [],
   "source": [
    "PL.head()"
   ]
  },
  {
   "cell_type": "code",
   "execution_count": null,
   "metadata": {},
   "outputs": [],
   "source": [
    "PL.tail()"
   ]
  },
  {
   "cell_type": "code",
   "execution_count": null,
   "metadata": {},
   "outputs": [],
   "source": [
    "# Criando uma nova coluna que vai demonstrar o valor total da nossa carteira, por dia\n",
    "PL['PL Total'] = PL.sum(axis = 1)"
   ]
  },
  {
   "cell_type": "code",
   "execution_count": null,
   "metadata": {},
   "outputs": [],
   "source": [
    "#PL.head()\n",
    "PL.tail()"
   ]
  },
  {
   "cell_type": "code",
   "execution_count": null,
   "metadata": {},
   "outputs": [],
   "source": [
    "ibov = yf.download('^BVSP', start = inicio, end = fim)"
   ]
  },
  {
   "cell_type": "code",
   "execution_count": null,
   "metadata": {},
   "outputs": [],
   "source": [
    "ibov.head()"
   ]
  },
  {
   "cell_type": "code",
   "execution_count": null,
   "metadata": {},
   "outputs": [],
   "source": [
    "ibov.rename(columns = {'Close':'Ibov'}, inplace = True)"
   ]
  },
  {
   "cell_type": "code",
   "execution_count": null,
   "metadata": {},
   "outputs": [],
   "source": [
    "ibov = ibov[['Ibov']]"
   ]
  },
  {
   "cell_type": "code",
   "execution_count": null,
   "metadata": {},
   "outputs": [],
   "source": [
    "ibov"
   ]
  },
  {
   "cell_type": "markdown",
   "metadata": {},
   "source": [
    "Agora vamos juntar os dados das tabelas do IBOV e da nossa carteira"
   ]
  },
  {
   "cell_type": "code",
   "execution_count": null,
   "metadata": {},
   "outputs": [],
   "source": [
    "novo_df = pd.merge(ibov, PL, how = 'inner', on = 'Date')"
   ]
  },
  {
   "cell_type": "code",
   "execution_count": null,
   "metadata": {},
   "outputs": [],
   "source": [
    "novo_df.head()"
   ]
  },
  {
   "cell_type": "code",
   "execution_count": null,
   "metadata": {},
   "outputs": [],
   "source": [
    "novo_df.plot()"
   ]
  },
  {
   "cell_type": "code",
   "execution_count": null,
   "metadata": {},
   "outputs": [],
   "source": [
    "novo_normalizado = (novo_df/novo_df.iloc[0])*100"
   ]
  },
  {
   "cell_type": "code",
   "execution_count": null,
   "metadata": {},
   "outputs": [],
   "source": [
    "novo_normalizado"
   ]
  },
  {
   "cell_type": "code",
   "execution_count": null,
   "metadata": {},
   "outputs": [],
   "source": [
    "novo_normalizado.plot()"
   ]
  },
  {
   "cell_type": "code",
   "execution_count": null,
   "metadata": {},
   "outputs": [],
   "source": [
    "novo_normalizado[['Ibov','PL Total']].plot(figsize = (8,6))"
   ]
  },
  {
   "cell_type": "markdown",
   "metadata": {},
   "source": [
    "E se o usuário conseguisse determinar quanto ele investiria em cada ativo?"
   ]
  },
  {
   "cell_type": "code",
   "execution_count": null,
   "metadata": {},
   "outputs": [],
   "source": [
    "ativos"
   ]
  }
 ],
 "metadata": {
  "kernelspec": {
   "display_name": "Python 3",
   "language": "python",
   "name": "python3"
  },
  "language_info": {
   "codemirror_mode": {
    "name": "ipython",
    "version": 3
   },
   "file_extension": ".py",
   "mimetype": "text/x-python",
   "name": "python",
   "nbconvert_exporter": "python",
   "pygments_lexer": "ipython3",
   "version": "3.10.11"
  },
  "orig_nbformat": 4
 },
 "nbformat": 4,
 "nbformat_minor": 2
}
