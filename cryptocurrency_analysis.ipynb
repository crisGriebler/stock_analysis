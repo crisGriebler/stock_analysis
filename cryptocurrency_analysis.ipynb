{
 "cells": [
  {
   "cell_type": "code",
   "execution_count": 1,
   "metadata": {},
   "outputs": [],
   "source": [
    "import yfinance as yf\n",
    "import pandas as pd\n",
    "import numpy as np\n",
    "import matplotlib.pyplot as plt"
   ]
  },
  {
   "cell_type": "code",
   "execution_count": 5,
   "metadata": {},
   "outputs": [],
   "source": [
    "import investpy as ipy"
   ]
  },
  {
   "cell_type": "code",
   "execution_count": 6,
   "metadata": {},
   "outputs": [
    {
     "ename": "ConnectionError",
     "evalue": "ERR#0015: error 403, try again later.",
     "output_type": "error",
     "traceback": [
      "\u001b[1;31m---------------------------------------------------------------------------\u001b[0m",
      "\u001b[1;31mConnectionError\u001b[0m                           Traceback (most recent call last)",
      "Cell \u001b[1;32mIn[6], line 1\u001b[0m\n\u001b[1;32m----> 1\u001b[0m bitcoin \u001b[39m=\u001b[39m ipy\u001b[39m.\u001b[39;49mget_crypto_historical_data(crypto \u001b[39m=\u001b[39;49m \u001b[39m'\u001b[39;49m\u001b[39mbitcoin\u001b[39;49m\u001b[39m'\u001b[39;49m,\n\u001b[0;32m      2\u001b[0m                                               from_date \u001b[39m=\u001b[39;49m \u001b[39m'\u001b[39;49m\u001b[39m01/01/2017\u001b[39;49m\u001b[39m'\u001b[39;49m, to_date \u001b[39m=\u001b[39;49m \u001b[39m'\u001b[39;49m\u001b[39m10/07/2023\u001b[39;49m\u001b[39m'\u001b[39;49m)\n",
      "File \u001b[1;32m~\\AppData\\Local\\Packages\\PythonSoftwareFoundation.Python.3.10_qbz5n2kfra8p0\\LocalCache\\local-packages\\Python310\\site-packages\\investpy\\crypto.py:598\u001b[0m, in \u001b[0;36mget_crypto_historical_data\u001b[1;34m(crypto, from_date, to_date, as_json, order, interval)\u001b[0m\n\u001b[0;32m    595\u001b[0m req \u001b[39m=\u001b[39m requests\u001b[39m.\u001b[39mpost(url, headers\u001b[39m=\u001b[39mhead, data\u001b[39m=\u001b[39mparams)\n\u001b[0;32m    597\u001b[0m \u001b[39mif\u001b[39;00m req\u001b[39m.\u001b[39mstatus_code \u001b[39m!=\u001b[39m \u001b[39m200\u001b[39m:\n\u001b[1;32m--> 598\u001b[0m     \u001b[39mraise\u001b[39;00m \u001b[39mConnectionError\u001b[39;00m(\n\u001b[0;32m    599\u001b[0m         \u001b[39m\"\u001b[39m\u001b[39mERR#0015: error \u001b[39m\u001b[39m\"\u001b[39m \u001b[39m+\u001b[39m \u001b[39mstr\u001b[39m(req\u001b[39m.\u001b[39mstatus_code) \u001b[39m+\u001b[39m \u001b[39m\"\u001b[39m\u001b[39m, try again later.\u001b[39m\u001b[39m\"\u001b[39m\n\u001b[0;32m    600\u001b[0m     )\n\u001b[0;32m    602\u001b[0m \u001b[39mif\u001b[39;00m \u001b[39mnot\u001b[39;00m req\u001b[39m.\u001b[39mtext:\n\u001b[0;32m    603\u001b[0m     \u001b[39mcontinue\u001b[39;00m\n",
      "\u001b[1;31mConnectionError\u001b[0m: ERR#0015: error 403, try again later."
     ]
    }
   ],
   "source": [
    "bitcoin = ipy.get_crypto_historical_data(crypto = 'bitcoin',\n",
    "                                              from_date = '01/01/2017', to_date = '10/07/2023')"
   ]
  },
  {
   "cell_type": "code",
   "execution_count": null,
   "metadata": {},
   "outputs": [],
   "source": [
    "bitcoin.rename(columns = {'Close': 'bitcoin'}, inplace = True)"
   ]
  },
  {
   "cell_type": "code",
   "execution_count": null,
   "metadata": {},
   "outputs": [],
   "source": [
    "ethereum = investpy.get_crypto_historical_data(crypto = 'ethereum',\n",
    "                                              from_date = '01/01/2017', to_date = '15/05/2022')\n",
    "\n",
    "ethereum.rename(columns = {'Close': 'ethereum'}, inplace = True)"
   ]
  },
  {
   "cell_type": "code",
   "execution_count": null,
   "metadata": {},
   "outputs": [],
   "source": [
    "cripto = pd.merge(bitcoin, ethereum, how = 'inner', on = 'Date')"
   ]
  },
  {
   "cell_type": "code",
   "execution_count": null,
   "metadata": {},
   "outputs": [],
   "source": [
    "cripto = cripto[['bitcoin', 'ethereum']]"
   ]
  },
  {
   "cell_type": "code",
   "execution_count": null,
   "metadata": {},
   "outputs": [],
   "source": [
    "cripto.head()"
   ]
  },
  {
   "cell_type": "code",
   "execution_count": null,
   "metadata": {},
   "outputs": [],
   "source": []
  }
 ],
 "metadata": {
  "kernelspec": {
   "display_name": "Python 3",
   "language": "python",
   "name": "python3"
  },
  "language_info": {
   "codemirror_mode": {
    "name": "ipython",
    "version": 3
   },
   "file_extension": ".py",
   "mimetype": "text/x-python",
   "name": "python",
   "nbconvert_exporter": "python",
   "pygments_lexer": "ipython3",
   "version": "3.10.11"
  },
  "orig_nbformat": 4
 },
 "nbformat": 4,
 "nbformat_minor": 2
}
