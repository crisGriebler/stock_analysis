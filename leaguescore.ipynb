{
 "cells": [
  {
   "cell_type": "code",
   "execution_count": 2,
   "metadata": {},
   "outputs": [
    {
     "name": "stdout",
     "output_type": "stream",
     "text": [
      "None\n"
     ]
    }
   ],
   "source": [
    "## problem without solution! Check solution in github: https://github.com/resultakak/python-testdome-solutions\n",
    "from collections import Counter\n",
    "from collections import OrderedDict\n",
    "\n",
    "class LeagueTable:\n",
    "    def __init__(self, players):\n",
    "        self.standings = OrderedDict([(player, Counter()) for player in players])\n",
    "       \n",
    "    def record_result(self, player, score):\n",
    "        self.standings[player]['games_played'] += 1\n",
    "        self.standings[player]['score'] += score\n",
    "      \n",
    "    def player_rank(self, rank):\n",
    "        return None\n",
    "\n",
    "if __name__ == \"__main__\":\n",
    "    table = LeagueTable(['Mike', 'Chris', 'Arnold'])\n",
    "    table.record_result('Mike', 2)\n",
    "    table.record_result('Mike', 3)\n",
    "    table.record_result('Arnold', 5)\n",
    "    table.record_result('Chris', 5)\n",
    "    print(table.player_rank(1))"
   ]
  },
  {
   "cell_type": "code",
   "execution_count": null,
   "metadata": {},
   "outputs": [],
   "source": []
  }
 ],
 "metadata": {
  "kernelspec": {
   "display_name": "Python 3",
   "language": "python",
   "name": "python3"
  },
  "language_info": {
   "codemirror_mode": {
    "name": "ipython",
    "version": 3
   },
   "file_extension": ".py",
   "mimetype": "text/x-python",
   "name": "python",
   "nbconvert_exporter": "python",
   "pygments_lexer": "ipython3",
   "version": "3.10.11"
  },
  "orig_nbformat": 4
 },
 "nbformat": 4,
 "nbformat_minor": 2
}
